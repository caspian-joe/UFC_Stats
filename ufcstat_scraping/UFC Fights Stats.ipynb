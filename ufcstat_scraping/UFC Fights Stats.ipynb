{
 "cells": [
  {
   "cell_type": "code",
   "execution_count": 96,
   "metadata": {},
   "outputs": [],
   "source": [
    "# import libraries\n",
    "import requests\n",
    "import time\n",
    "import datetime\n",
    "import pandas as pd\n",
    "import smtplib\n",
    "from lxml import html\n",
    "import matplotlib.pyplot as plt\n",
    "import re\n",
    "import json"
   ]
  },
  {
   "cell_type": "code",
   "execution_count": null,
   "metadata": {},
   "outputs": [],
   "source": [
    "# connect to website\n",
    "headers = {'User-Agent': 'Mozilla/5.0 (Windows NT 10.0; Win64; x64) AppleWebKit/537.36 (KHTML, like Gecko) Chrome/112.0.0.0 Safari/537.36 Edg/112.0.1722.48'}\n",
    "base_url = 'http://ufcstats.com/statistics/events/completed?page=all'\n",
    "\n",
    "# base_tree = html.fromstring(requests.get(base_url, headers=headers).content)\n",
    "response = requests.get(base_url, headers=headers)\n",
    "print(response)\n",
    "\n"
   ]
  },
  {
   "cell_type": "code",
   "execution_count": 121,
   "metadata": {},
   "outputs": [],
   "source": [
    "def get_events(response):\n",
    "    tree = html.fromstring(response.content)\n",
    "\n",
    "    events_tbl = tree.xpath('/html/body/section/div/div/div/div[2]/div/table/tbody')[0]\n",
    "    trs = events_tbl.xpath('.//tr')\n",
    "\n",
    "    ufc_events = []\n",
    "\n",
    "    for tr in trs[1:]:\n",
    "        ufc_event = {\n",
    "            'name': None,\n",
    "            'date': None,\n",
    "            'location': None,\n",
    "            'link': None\n",
    "        }\n",
    "        ufc_event['name'] = tr.xpath('td[1]/i/a/text()')[0].strip()\n",
    "        ufc_event['date'] = tr.xpath('td[1]/i/span')[0].text.strip()\n",
    "        ufc_event['link'] = tr.xpath('td[1]/i/a/@href')[0].strip()\n",
    "        ufc_event['location'] = tr.xpath('td[2]/text()')[0].strip()\n",
    "        ufc_events.append(ufc_event)\n",
    "\n",
    "    return ufc_events\n"
   ]
  },
  {
   "cell_type": "code",
   "execution_count": 209,
   "metadata": {},
   "outputs": [],
   "source": [
    "events = get_events(response)\n",
    "ufc_events = pd.DataFrame(events)\n",
    "ufc_events.to_csv('ufc_events.csv', index=False)\n"
   ]
  },
  {
   "cell_type": "code",
   "execution_count": 290,
   "metadata": {},
   "outputs": [],
   "source": [
    "def get_fights(events):\n",
    "    for event in events[1:2]:\n",
    "        url = event['link']\n",
    "        event_name = event['name']\n",
    "        fight_tree = html.fromstring(requests.get(url, headers=headers).content, 'html.parser')\n",
    "        fights_tbl = fight_tree.xpath('/html/body/section/div/div/table')[0]\n",
    "        fight_trs = fights_tbl.xpath('.//tr')\n",
    "\n",
    "        fights = []\n",
    "        for tr in fight_trs[1:]:\n",
    "            fight = {\n",
    "                'event_name': None,\n",
    "                'name': None,\n",
    "                'fighter1': None,\n",
    "                'fighter2': None,\n",
    "                'weight class': None,\n",
    "                'method': None,\n",
    "                'round': None,\n",
    "                'time': None,\n",
    "                'link': None\n",
    "            }\n",
    "            \n",
    "            fight['event_name'] = event_name\n",
    "            fighter1 = tr.xpath('td[2]/p[1]/a/text()')[0].strip()\n",
    "            fighter2 = tr.xpath('td[2]/p[2]/a/text()')[0].strip()\n",
    "            fight['name'] = fighter1 + ' vs ' + fighter2\n",
    "            fight['fighter1'] = fighter1\n",
    "            fight['fighter2'] = fighter2\n",
    "            fight['weight class'] = tr.xpath('td[7]/p/text()')[0].strip()\n",
    "            fight['method'] = tr.xpath('td[8]/p/text()')[0].strip()\n",
    "            fight['round'] = tr.xpath('td[9]/p/text()')[0].strip()\n",
    "            fight['time'] = tr.xpath('td[10]/p/text()')[0].strip()\n",
    "            fight['link'] = tr.xpath('td[1]/p/a/@href')[0].strip()\n",
    "\n",
    "            fights.append(fight)\n",
    "\n",
    "    return fights"
   ]
  },
  {
   "cell_type": "code",
   "execution_count": 291,
   "metadata": {},
   "outputs": [],
   "source": [
    "fights = get_fights(events)\n",
    "ufc_fights = pd.DataFrame(fights)\n",
    "ufc_fights.to_csv('ufc_fights.csv', index=False)"
   ]
  },
  {
   "cell_type": "code",
   "execution_count": null,
   "metadata": {},
   "outputs": [],
   "source": [
    "ufc_fights_records_header = []\n",
    "for fight in ufc_fights[:4]:\n",
    "        record_tree = html.fromstring(str(record_soup))\n",
    "        for record in record_tree.xpath('/html/body/section/div/div'):\n",
    "                # fighererA = record.xpath('//div[1]/div[1]/div')[0]\n",
    "                fighterA = BeautifulSoup(html.tostring(record.xpath('//div[1]/div[1]/div/h3/a')[0]), 'html.parser').text.strip()\n",
    "                fighterB = BeautifulSoup(html.tostring(record.xpath('//div[1]/div[2]/div/h3/a')[0]), 'html.parser').text.strip()\n",
    "                \n",
    "                fight_header = 'Fight'\n",
    "                fight_content = (fighterA + ' vs. ' + fighterB)\n",
    "\n",
    "                method_header = record.xpath('//div[2]/div[2]/p[1]/i[1]/i[1]')[0].text.strip()\n",
    "                method_content = record.xpath('//div[2]/div[2]/p[1]/i[1]/i[2]')[0].text.strip()\n",
    "\n",
    "                round_header = BeautifulSoup(html.tostring(record.xpath('//div[2]/div[2]/p[1]/i[2]')[0]), 'html.parser').find('i', {'class', 'b-fight-details__text-item'}).contents[1].text.strip()\n",
    "                round_content = BeautifulSoup(html.tostring(record.xpath('//div[2]/div[2]/p[1]/i[2]')[0]), 'html.parser').find('i', {'class', 'b-fight-details__text-item'}).contents[2].text.strip()\n",
    "\n",
    "                time_header = BeautifulSoup(html.tostring(record.xpath('//div[2]/div[2]/p[1]/i[3]')[0]), 'html.parser').find('i', {'class', 'b-fight-details__text-item'}).contents[1].text.strip()\n",
    "                time_content = BeautifulSoup(html.tostring(record.xpath('//div[2]/div[2]/p[1]/i[3]')[0]), 'html.parser').find('i', {'class', 'b-fight-details__text-item'}).contents[2].text.strip()\n",
    "\n",
    "                format_header = BeautifulSoup(html.tostring(record.xpath('//div[2]/div[2]/p[1]/i[4]')[0]), 'html.parser').find('i', {'class', 'b-fight-details__text-item'}).contents[1].text.strip()\n",
    "                format_content = BeautifulSoup(html.tostring(record.xpath('//div[2]/div[2]/p[1]/i[4]')[0]), 'html.parser').find('i', {'class', 'b-fight-details__text-item'}).contents[2].text.strip()\n",
    "\n",
    "                referee_header = BeautifulSoup(html.tostring(record.xpath('//div[2]/div[2]/p[1]/i[5]')[0]), 'html.parser').find('i', {'class', 'b-fight-details__text-item'}).contents[1].text.strip()\n",
    "                referee_content = BeautifulSoup(html.tostring(record.xpath('//div[2]/div[2]/p[1]/i[5]/span')[0]), 'html.parser').text.strip()\n",
    "\n",
    "                details_header = BeautifulSoup(html.tostring(record.xpath('//div[2]/div[2]/p[2]')[0]), 'html.parser').find('i', {'class', 'b-fight-details__label'}).text.strip()\n",
    "                details_content = BeautifulSoup(html.tostring(record.xpath('//div[2]/div[2]/p[2]')[0]), 'html.parser').text\n",
    "                details_content = re.sub(r'\\s+', ' ', details_content).split(':')[1].strip()\n",
    "\n",
    "                individual_fights_record={fight_header: fight_content, method_header: method_content, round_header: round_content, time_header: time_content, format_header: format_content, referee_header: referee_content, details_header: details_content}\n",
    "                ufc_fights_records_header.append(individual_fights_record)\n",
    "                # print(fighterA, fighterB)"
   ]
  },
  {
   "cell_type": "code",
   "execution_count": null,
   "metadata": {},
   "outputs": [],
   "source": [
    "\n",
    "# # get all event links\n",
    "# event_links_element = base_tree.xpath('/html/body/section/div/div/div/div[2]/div/table/tbody//td[1]/i/a')\n",
    "# event_location_element = base_tree.xpath('/html/body/section/div/div/div/div[2]/div/table/tbody//td[2]')\n",
    "# event_date_element = base_tree.xpath('/html/body/section/div/div/div/div[2]/div/table/tbody//td[1]/i/span')\n",
    "\n",
    "# ufc_events = []\n",
    "# for event_link, location, date in zip(event_links_element, event_location_element, event_date_element):\n",
    "#     link = event_link.get('href')\n",
    "#     event = event_link.text.strip()\n",
    "#     location = location.text.strip()\n",
    "#     date = date.text.strip()\n",
    "\n",
    "#     ufc_events.append({'event': event, 'location': location, 'date': date, 'link': link})\n",
    "\n",
    "# ufc_fights = []\n",
    "# for ufc_event in ufc_events[:3]:\n",
    "#         fight_soup = BeautifulSoup(requests.get(ufc_event['link'], headers=headers).content, 'html.parser')\n",
    "#         fight_tree = html.fromstring(str(fight_soup))\n",
    "#         ufc_fights_links = fight_tree.xpath('/html/body/section/div/div/table/tbody//td[1]/p/a/@href')\n",
    "#         for fight_link in ufc_fights_links:\n",
    "#                 ufc_fights.append({'event': ufc_event['event'], 'fight_link': fight_link})\n",
    "\n",
    "# print(ufc_fights)"
   ]
  },
  {
   "cell_type": "code",
   "execution_count": null,
   "metadata": {},
   "outputs": [],
   "source": [
    "# # for ufc_fight in ufc_fights:\n",
    "# ufc_fights_records_header = []\n",
    "# for ufc_fight in ufc_fights[:4]:\n",
    "#         record_soup = BeautifulSoup(requests.get(ufc_fight['fight_link'], headers=headers).content, 'html.parser')\n",
    "#         record_tree = html.fromstring(str(record_soup))\n",
    "#         for record in record_tree.xpath('/html/body/section/div/div'):\n",
    "#                 # fighererA = record.xpath('//div[1]/div[1]/div')[0]\n",
    "#                 fighterA = BeautifulSoup(html.tostring(record.xpath('//div[1]/div[1]/div/h3/a')[0]), 'html.parser').text.strip()\n",
    "#                 fighterB = BeautifulSoup(html.tostring(record.xpath('//div[1]/div[2]/div/h3/a')[0]), 'html.parser').text.strip()\n",
    "                \n",
    "#                 fight_header = 'Fight'\n",
    "#                 fight_content = (fighterA + ' vs. ' + fighterB)\n",
    "\n",
    "#                 method_header = record.xpath('//div[2]/div[2]/p[1]/i[1]/i[1]')[0].text.strip()\n",
    "#                 method_content = record.xpath('//div[2]/div[2]/p[1]/i[1]/i[2]')[0].text.strip()\n",
    "\n",
    "#                 round_header = BeautifulSoup(html.tostring(record.xpath('//div[2]/div[2]/p[1]/i[2]')[0]), 'html.parser').find('i', {'class', 'b-fight-details__text-item'}).contents[1].text.strip()\n",
    "#                 round_content = BeautifulSoup(html.tostring(record.xpath('//div[2]/div[2]/p[1]/i[2]')[0]), 'html.parser').find('i', {'class', 'b-fight-details__text-item'}).contents[2].text.strip()\n",
    "\n",
    "#                 time_header = BeautifulSoup(html.tostring(record.xpath('//div[2]/div[2]/p[1]/i[3]')[0]), 'html.parser').find('i', {'class', 'b-fight-details__text-item'}).contents[1].text.strip()\n",
    "#                 time_content = BeautifulSoup(html.tostring(record.xpath('//div[2]/div[2]/p[1]/i[3]')[0]), 'html.parser').find('i', {'class', 'b-fight-details__text-item'}).contents[2].text.strip()\n",
    "\n",
    "#                 format_header = BeautifulSoup(html.tostring(record.xpath('//div[2]/div[2]/p[1]/i[4]')[0]), 'html.parser').find('i', {'class', 'b-fight-details__text-item'}).contents[1].text.strip()\n",
    "#                 format_content = BeautifulSoup(html.tostring(record.xpath('//div[2]/div[2]/p[1]/i[4]')[0]), 'html.parser').find('i', {'class', 'b-fight-details__text-item'}).contents[2].text.strip()\n",
    "\n",
    "#                 referee_header = BeautifulSoup(html.tostring(record.xpath('//div[2]/div[2]/p[1]/i[5]')[0]), 'html.parser').find('i', {'class', 'b-fight-details__text-item'}).contents[1].text.strip()\n",
    "#                 referee_content = BeautifulSoup(html.tostring(record.xpath('//div[2]/div[2]/p[1]/i[5]/span')[0]), 'html.parser').text.strip()\n",
    "\n",
    "#                 details_header = BeautifulSoup(html.tostring(record.xpath('//div[2]/div[2]/p[2]')[0]), 'html.parser').find('i', {'class', 'b-fight-details__label'}).text.strip()\n",
    "#                 details_content = BeautifulSoup(html.tostring(record.xpath('//div[2]/div[2]/p[2]')[0]), 'html.parser').text\n",
    "#                 details_content = re.sub(r'\\s+', ' ', details_content).split(':')[1].strip()\n",
    "\n",
    "#                 individual_fights_record={fight_header: fight_content, method_header: method_content, round_header: round_content, time_header: time_content, format_header: format_content, referee_header: referee_content, details_header: details_content}\n",
    "#                 ufc_fights_records_header.append(individual_fights_record)\n",
    "#                 # print(fighterA, fighterB)\n",
    "\n",
    "# print(ufc_fights_records_header)"
   ]
  },
  {
   "cell_type": "code",
   "execution_count": null,
   "metadata": {},
   "outputs": [],
   "source": [
    "# ufc_fights_records_header_pd = pd.DataFrame(ufc_fights_records_header)\n",
    "# ufc_fights_records_header_pd.to_csv('ufc_fights_records_header.csv', index=False)"
   ]
  },
  {
   "cell_type": "code",
   "execution_count": null,
   "metadata": {},
   "outputs": [],
   "source": [
    "# ufc_fights_pd = pd.DataFrame(ufc_fights)\n",
    "# ufc_fights_pd.to_csv('ufc_fights.csv', index=False)"
   ]
  },
  {
   "cell_type": "code",
   "execution_count": null,
   "metadata": {},
   "outputs": [],
   "source": [
    "# ufc_events_pd = pd.DataFrame(ufc_events)\n",
    "# ufc_events_pd.to_csv('ufc_events.csv', index=False)"
   ]
  }
 ],
 "metadata": {
  "kernelspec": {
   "display_name": "venv",
   "language": "python",
   "name": "python3"
  },
  "language_info": {
   "codemirror_mode": {
    "name": "ipython",
    "version": 3
   },
   "file_extension": ".py",
   "mimetype": "text/x-python",
   "name": "python",
   "nbconvert_exporter": "python",
   "pygments_lexer": "ipython3",
   "version": "3.11.2"
  },
  "orig_nbformat": 4
 },
 "nbformat": 4,
 "nbformat_minor": 2
}
